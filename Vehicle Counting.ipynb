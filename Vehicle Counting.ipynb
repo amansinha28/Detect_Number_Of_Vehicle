{
 "cells": [
  {
   "cell_type": "code",
   "execution_count": null,
   "metadata": {},
   "outputs": [],
   "source": [
    "import cv2\n",
    "import numpy as np\n",
    "from time import sleep"
   ]
  },
  {
   "cell_type": "code",
   "execution_count": null,
   "metadata": {},
   "outputs": [],
   "source": [
    "width_min=80 # min width of rectangle\n",
    "height_min=80 # min height of rectangle\n",
    "\n",
    "offset=7 #allowable error between pixel  \n",
    "\n",
    "pos_line=500 #Count line position \n",
    "\n",
    "delay= 60 \n",
    "\n",
    "detect = []\n",
    "vehicle_count= 0\n",
    "\n",
    "def center_point(x, y, w, h):\n",
    "    x1 = int(w / 2)\n",
    "    y1 = int(h / 2)\n",
    "    cx = x + x1\n",
    "    cy = y + y1\n",
    "    return cx,cy\n",
    "\n",
    "cap = cv2.VideoCapture('video.mp4')\n",
    "subtract =cv2.bgsegm.createBackgroundSubtractorMOG()\n",
    "\n",
    "while True:\n",
    "    ret , frame1 = cap.read()\n",
    "    temp = float(1/delay)\n",
    "    sleep(temp) \n",
    "    grey = cv2.cvtColor(frame1,cv2.COLOR_BGR2GRAY)\n",
    "    blur = cv2.GaussianBlur(grey,(3,3),5)\n",
    "    img_sub = subtract.apply(blur)\n",
    "    dilation = cv2.dilate(img_sub,np.ones((5,5)))\n",
    "    kernel = cv2.getStructuringElement(cv2.MORPH_ELLIPSE, (5, 5))\n",
    "    dilatada = cv2.morphologyEx (dilation, cv2. MORPH_CLOSE , kernel)\n",
    "    dilatada = cv2.morphologyEx (dilatada, cv2. MORPH_CLOSE , kernel)\n",
    "    contour,h=cv2.findContours(dilatada,cv2.RETR_TREE,cv2.CHAIN_APPROX_SIMPLE)\n",
    "    \n",
    "    cv2.line(frame1, (25, pos_line), (1800, pos_line), (167, 168, 157), 1) \n",
    "    for(i,c) in enumerate(contour):\n",
    "        (x,y,w,h) = cv2.boundingRect(c)\n",
    "        validate_outline = (w >= width_min) and (h >= height_min)\n",
    "        if not validate_outline:\n",
    "            continue\n",
    "\n",
    "        cv2.rectangle(frame1,(x,y),(x+w,y+h),(0,255,0),2)        \n",
    "        center = center_point(x, y, w, h)\n",
    "        detect.append(center)\n",
    "        cv2.circle(frame1, center, 4, (0, 0,255), -1)\n",
    "\n",
    "        for (x,y) in detect:\n",
    "            if y<(pos_line+offset) and y>(pos_line-offset):\n",
    "                vehicle_count+=1\n",
    "                cv2.line(frame1, (25, pos_line), (1200, pos_line), (0,127,255), 3)  \n",
    "                detect.remove((x,y))\n",
    "                print(\"car is detected : \"+str(vehicle_count))        \n",
    "       \n",
    "    cv2.putText(frame1, \"VEHICLE COUNT : \"+str(vehicle_count), (450, 70), cv2.FONT_HERSHEY_SIMPLEX, 2, (0, 0, 255),5)\n",
    "    cv2.imshow(\"Video Original\" , frame1)\n",
    "    cv2.imshow(\"Detectar\",dilatada)\n",
    "\n",
    "    if cv2.waitKey(1) == 27:\n",
    "        break\n",
    "    \n",
    "cv2.destroyAllWindows()\n",
    "cap.release()"
   ]
  },
  {
   "cell_type": "code",
   "execution_count": null,
   "metadata": {},
   "outputs": [],
   "source": []
  }
 ],
 "metadata": {
  "kernelspec": {
   "display_name": "Python 3",
   "language": "python",
   "name": "python3"
  },
  "language_info": {
   "codemirror_mode": {
    "name": "ipython",
    "version": 3
   },
   "file_extension": ".py",
   "mimetype": "text/x-python",
   "name": "python",
   "nbconvert_exporter": "python",
   "pygments_lexer": "ipython3",
   "version": "3.7.2"
  }
 },
 "nbformat": 4,
 "nbformat_minor": 2
}
